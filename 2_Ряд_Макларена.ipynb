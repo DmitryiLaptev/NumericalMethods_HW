{
  "nbformat": 4,
  "nbformat_minor": 0,
  "metadata": {
    "colab": {
      "provenance": [],
      "authorship_tag": "ABX9TyODNZHZjxy0CZCWHkUPSLeB",
      "include_colab_link": true
    },
    "kernelspec": {
      "name": "python3",
      "display_name": "Python 3"
    },
    "language_info": {
      "name": "python"
    }
  },
  "cells": [
    {
      "cell_type": "markdown",
      "metadata": {
        "id": "view-in-github",
        "colab_type": "text"
      },
      "source": [
        "<a href=\"https://colab.research.google.com/github/DmitryiLaptev/NumericalMethods_HW/blob/main/2_%D0%A0%D1%8F%D0%B4_%D0%9C%D0%B0%D0%BA%D0%BB%D0%B0%D1%80%D0%B5%D0%BD%D0%B0.ipynb\" target=\"_parent\"><img src=\"https://colab.research.google.com/assets/colab-badge.svg\" alt=\"Open In Colab\"/></a>"
      ]
    },
    {
      "cell_type": "code",
      "execution_count": 4,
      "metadata": {
        "colab": {
          "base_uri": "https://localhost:8080/"
        },
        "id": "2I1lEY_iNjf_",
        "outputId": "3278224b-280a-4779-9896-c7122f7bae5e"
      },
      "outputs": [
        {
          "output_type": "stream",
          "name": "stdout",
          "text": [
            "2.71828182845823\n",
            "2.718281828459045\n",
            "148.41315910257242\n",
            "148.4131591025766\n",
            "22026.465794806707\n",
            "22026.465794806718\n",
            "3269017.3724721107\n",
            "3269017.3724721107\n",
            "485165195.40979046\n",
            "485165195.4097903\n",
            "0.36787944117216204\n",
            "0.36787944117144233\n",
            "0.0067379469960630635\n",
            "0.006737946999085467\n",
            "4.539993653253598e-05\n",
            "4.5399929762484854e-05\n",
            "3.0592413324739724e-07\n",
            "3.059023205018258e-07\n",
            "6.164184854939453e-09\n",
            "2.061153622438558e-09\n"
          ]
        }
      ],
      "source": [
        "import numpy as np\n",
        "eps = 1e-10\n",
        "def a (x, eps):\n",
        "  sum = 1\n",
        "  cur = 1\n",
        "  n = 1\n",
        "  while np.abs(cur) > eps:\n",
        "    cur = cur * (x / n)\n",
        "    sum = sum + cur\n",
        "    n = n + 1\n",
        "  return sum\n",
        "for i in (1, 5, 10, 15, 20, -1, -5, -10, -15, -20):\n",
        "  print(a(i, eps))\n",
        "  print(np.exp(i))"
      ]
    }
  ]
}